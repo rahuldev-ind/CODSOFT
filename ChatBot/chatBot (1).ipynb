{
 "cells": [
  {
   "cell_type": "code",
   "id": "4334a6b0-fc0f-4aba-b9b7-ad1b6c76d3ab",
   "metadata": {
    "ExecuteTime": {
     "end_time": "2025-08-01T18:50:29.792736Z",
     "start_time": "2025-08-01T18:50:02.755780Z"
    }
   },
   "source": [
    "pip install nltk"
   ],
   "outputs": [
    {
     "name": "stdout",
     "output_type": "stream",
     "text": [
      "Collecting nltk\n",
      "  Downloading nltk-3.9.1-py3-none-any.whl.metadata (2.9 kB)\n",
      "Requirement already satisfied: click in d:\\app data\\python\\lib\\site-packages (from nltk) (8.2.0)\n",
      "Requirement already satisfied: joblib in d:\\app data\\python\\lib\\site-packages (from nltk) (1.5.0)\n",
      "Collecting regex>=2021.8.3 (from nltk)\n",
      "  Downloading regex-2025.7.34-cp313-cp313-win_amd64.whl.metadata (41 kB)\n",
      "Collecting tqdm (from nltk)\n",
      "  Downloading tqdm-4.67.1-py3-none-any.whl.metadata (57 kB)\n",
      "Requirement already satisfied: colorama in d:\\app data\\python\\lib\\site-packages (from click->nltk) (0.4.6)\n",
      "Downloading nltk-3.9.1-py3-none-any.whl (1.5 MB)\n",
      "   ---------------------------------------- 0.0/1.5 MB ? eta -:--:--\n",
      "   ------ --------------------------------- 0.3/1.5 MB ? eta -:--:--\n",
      "   ---------------------------------- ----- 1.3/1.5 MB 5.2 MB/s eta 0:00:01\n",
      "   ---------------------------------------- 1.5/1.5 MB 4.9 MB/s eta 0:00:00\n",
      "Downloading regex-2025.7.34-cp313-cp313-win_amd64.whl (275 kB)\n",
      "Downloading tqdm-4.67.1-py3-none-any.whl (78 kB)\n",
      "Installing collected packages: tqdm, regex, nltk\n",
      "\n",
      "   ---------------------------------------- 0/3 [tqdm]\n",
      "   ---------------------------------------- 0/3 [tqdm]\n",
      "   ---------------------------------------- 0/3 [tqdm]\n",
      "   ---------------------------------------- 0/3 [tqdm]\n",
      "   ---------------------------------------- 0/3 [tqdm]\n",
      "   ---------------------------------------- 0/3 [tqdm]\n",
      "   ---------------------------------------- 0/3 [tqdm]\n",
      "   ------------- -------------------------- 1/3 [regex]\n",
      "   ------------- -------------------------- 1/3 [regex]\n",
      "   ------------- -------------------------- 1/3 [regex]\n",
      "   -------------------------- ------------- 2/3 [nltk]\n",
      "   -------------------------- ------------- 2/3 [nltk]\n",
      "   -------------------------- ------------- 2/3 [nltk]\n",
      "   -------------------------- ------------- 2/3 [nltk]\n",
      "   -------------------------- ------------- 2/3 [nltk]\n",
      "   -------------------------- ------------- 2/3 [nltk]\n",
      "   -------------------------- ------------- 2/3 [nltk]\n",
      "   -------------------------- ------------- 2/3 [nltk]\n",
      "   -------------------------- ------------- 2/3 [nltk]\n",
      "   -------------------------- ------------- 2/3 [nltk]\n",
      "   -------------------------- ------------- 2/3 [nltk]\n",
      "   -------------------------- ------------- 2/3 [nltk]\n",
      "   -------------------------- ------------- 2/3 [nltk]\n",
      "   -------------------------- ------------- 2/3 [nltk]\n",
      "   -------------------------- ------------- 2/3 [nltk]\n",
      "   -------------------------- ------------- 2/3 [nltk]\n",
      "   -------------------------- ------------- 2/3 [nltk]\n",
      "   -------------------------- ------------- 2/3 [nltk]\n",
      "   -------------------------- ------------- 2/3 [nltk]\n",
      "   -------------------------- ------------- 2/3 [nltk]\n",
      "   -------------------------- ------------- 2/3 [nltk]\n",
      "   -------------------------- ------------- 2/3 [nltk]\n",
      "   -------------------------- ------------- 2/3 [nltk]\n",
      "   -------------------------- ------------- 2/3 [nltk]\n",
      "   -------------------------- ------------- 2/3 [nltk]\n",
      "   -------------------------- ------------- 2/3 [nltk]\n",
      "   -------------------------- ------------- 2/3 [nltk]\n",
      "   -------------------------- ------------- 2/3 [nltk]\n",
      "   -------------------------- ------------- 2/3 [nltk]\n",
      "   -------------------------- ------------- 2/3 [nltk]\n",
      "   -------------------------- ------------- 2/3 [nltk]\n",
      "   -------------------------- ------------- 2/3 [nltk]\n",
      "   -------------------------- ------------- 2/3 [nltk]\n",
      "   -------------------------- ------------- 2/3 [nltk]\n",
      "   -------------------------- ------------- 2/3 [nltk]\n",
      "   -------------------------- ------------- 2/3 [nltk]\n",
      "   -------------------------- ------------- 2/3 [nltk]\n",
      "   -------------------------- ------------- 2/3 [nltk]\n",
      "   -------------------------- ------------- 2/3 [nltk]\n",
      "   -------------------------- ------------- 2/3 [nltk]\n",
      "   -------------------------- ------------- 2/3 [nltk]\n",
      "   -------------------------- ------------- 2/3 [nltk]\n",
      "   -------------------------- ------------- 2/3 [nltk]\n",
      "   -------------------------- ------------- 2/3 [nltk]\n",
      "   -------------------------- ------------- 2/3 [nltk]\n",
      "   -------------------------- ------------- 2/3 [nltk]\n",
      "   -------------------------- ------------- 2/3 [nltk]\n",
      "   -------------------------- ------------- 2/3 [nltk]\n",
      "   -------------------------- ------------- 2/3 [nltk]\n",
      "   -------------------------- ------------- 2/3 [nltk]\n",
      "   -------------------------- ------------- 2/3 [nltk]\n",
      "   -------------------------- ------------- 2/3 [nltk]\n",
      "   -------------------------- ------------- 2/3 [nltk]\n",
      "   -------------------------- ------------- 2/3 [nltk]\n",
      "   -------------------------- ------------- 2/3 [nltk]\n",
      "   -------------------------- ------------- 2/3 [nltk]\n",
      "   -------------------------- ------------- 2/3 [nltk]\n",
      "   -------------------------- ------------- 2/3 [nltk]\n",
      "   -------------------------- ------------- 2/3 [nltk]\n",
      "   -------------------------- ------------- 2/3 [nltk]\n",
      "   -------------------------- ------------- 2/3 [nltk]\n",
      "   -------------------------- ------------- 2/3 [nltk]\n",
      "   -------------------------- ------------- 2/3 [nltk]\n",
      "   -------------------------- ------------- 2/3 [nltk]\n",
      "   -------------------------- ------------- 2/3 [nltk]\n",
      "   -------------------------- ------------- 2/3 [nltk]\n",
      "   -------------------------- ------------- 2/3 [nltk]\n",
      "   -------------------------- ------------- 2/3 [nltk]\n",
      "   -------------------------- ------------- 2/3 [nltk]\n",
      "   -------------------------- ------------- 2/3 [nltk]\n",
      "   -------------------------- ------------- 2/3 [nltk]\n",
      "   -------------------------- ------------- 2/3 [nltk]\n",
      "   -------------------------- ------------- 2/3 [nltk]\n",
      "   -------------------------- ------------- 2/3 [nltk]\n",
      "   -------------------------- ------------- 2/3 [nltk]\n",
      "   -------------------------- ------------- 2/3 [nltk]\n",
      "   -------------------------- ------------- 2/3 [nltk]\n",
      "   -------------------------- ------------- 2/3 [nltk]\n",
      "   -------------------------- ------------- 2/3 [nltk]\n",
      "   -------------------------- ------------- 2/3 [nltk]\n",
      "   -------------------------- ------------- 2/3 [nltk]\n",
      "   -------------------------- ------------- 2/3 [nltk]\n",
      "   -------------------------- ------------- 2/3 [nltk]\n",
      "   ---------------------------------------- 3/3 [nltk]\n",
      "\n",
      "Successfully installed nltk-3.9.1 regex-2025.7.34 tqdm-4.67.1\n",
      "Note: you may need to restart the kernel to use updated packages.\n"
     ]
    }
   ],
   "execution_count": 2
  },
  {
   "cell_type": "code",
   "id": "d63e67e8-65e4-4199-8f6e-4f30b7cc65d9",
   "metadata": {
    "ExecuteTime": {
     "end_time": "2025-08-01T18:50:46.326505Z",
     "start_time": "2025-08-01T18:50:39.248647Z"
    }
   },
   "source": [
    "import nltk\n",
    "import random\n",
    "import re\n",
    "import datetime"
   ],
   "outputs": [],
   "execution_count": 3
  },
  {
   "cell_type": "code",
   "id": "f6c2b44c-6c91-4c5f-9f1c-1e36c1c16222",
   "metadata": {
    "ExecuteTime": {
     "end_time": "2025-08-01T18:55:21.218046Z",
     "start_time": "2025-08-01T18:52:31.815700Z"
    }
   },
   "source": [
    "def Get_Resposnse(User_Input):\n",
    "    User_Lower = User_Input.lower()\n",
    "\n",
    "    Responses = {\n",
    "        r'hi|hello|hey': [\"Hello there!\", \"Hi!\", \"Hey! How can I help you today?\", \"Greetings!\"],\n",
    "        r'how are you': [\"I'm just a simple chatbot, but I'm functioning perfectly! How can I assist you?\"],\n",
    "        r'what can you do': [\"I can respond to greetings, answer simple questions, and have basic conversations.\"],\n",
    "        r'your name|who are you': [\"I'm a rule-based chatbot designed to demonstrate simple pattern matching.\"],\n",
    "        r'time|current time|what time is it': [f\"The current time is {datetime.datetime.now().strftime('%H:%M:%S')}.\"],\n",
    "        r'date|today\\'s date|what day is it': [f\"Today is {datetime.datetime.now().strftime('%Y-%m-%d')}.\"],\n",
    "        r'weather|temperature|forecast': [\"I'm not connected to a weather service, but I can tell you it's always sunny in chatbot-land!\"],\n",
    "        r'thanks|thank you|appreciate it': [\"You're welcome! Is there anything else I can help with?\"],\n",
    "        r'bye|goodbye|see you|farewell': [\"Goodbye! Feel free to come back if you have more questions!\"],\n",
    "    }\n",
    "\n",
    "    for pattern, Response_List in Responses.items():\n",
    "        if re.search(pattern, User_Lower):\n",
    "            return random.choice(Response_List)\n",
    "\n",
    "    return \"I am not sure i understand. Can you try asking something ? \"\n",
    "\n",
    "def ChatBot():\n",
    "    value = True\n",
    "    print(\"Welcome to our chatbot! Type 'exit' to exit. \")\n",
    "\n",
    "    while(value):\n",
    "        User_Input = input(\"You: \")\n",
    "        if User_Input.lower() == \"exit\":\n",
    "            print(\"Goodbye!. Have you nice day\")\n",
    "            break\n",
    "        response = Get_Resposnse(User_Input)\n",
    "        print(f\"ChatBot: {response}\")\n",
    "\n",
    "if __name__ == \"__main__\":\n",
    "    ChatBot()\n",
    "            \n",
    "            "
   ],
   "outputs": [
    {
     "name": "stdout",
     "output_type": "stream",
     "text": [
      "Welcome to our chatbot! Type 'exit' to exit. \n"
     ]
    },
    {
     "ename": "KeyboardInterrupt",
     "evalue": "",
     "output_type": "error",
     "traceback": [
      "\u001B[31m---------------------------------------------------------------------------\u001B[39m",
      "\u001B[31mKeyboardInterrupt\u001B[39m                         Traceback (most recent call last)",
      "\u001B[36mCell\u001B[39m\u001B[36m \u001B[39m\u001B[32mIn[6]\u001B[39m\u001B[32m, line 35\u001B[39m\n\u001B[32m     32\u001B[39m         \u001B[38;5;28mprint\u001B[39m(\u001B[33mf\u001B[39m\u001B[33m\"\u001B[39m\u001B[33mChatBot: \u001B[39m\u001B[38;5;132;01m{\u001B[39;00mresponse\u001B[38;5;132;01m}\u001B[39;00m\u001B[33m\"\u001B[39m)\n\u001B[32m     34\u001B[39m \u001B[38;5;28;01mif\u001B[39;00m \u001B[34m__name__\u001B[39m == \u001B[33m\"\u001B[39m\u001B[33m__main__\u001B[39m\u001B[33m\"\u001B[39m:\n\u001B[32m---> \u001B[39m\u001B[32m35\u001B[39m     \u001B[43mChatBot\u001B[49m\u001B[43m(\u001B[49m\u001B[43m)\u001B[49m\n",
      "\u001B[36mCell\u001B[39m\u001B[36m \u001B[39m\u001B[32mIn[6]\u001B[39m\u001B[32m, line 27\u001B[39m, in \u001B[36mChatBot\u001B[39m\u001B[34m()\u001B[39m\n\u001B[32m     24\u001B[39m \u001B[38;5;28mprint\u001B[39m(\u001B[33m\"\u001B[39m\u001B[33mWelcome to our chatbot! Type \u001B[39m\u001B[33m'\u001B[39m\u001B[33mexit\u001B[39m\u001B[33m'\u001B[39m\u001B[33m to exit. \u001B[39m\u001B[33m\"\u001B[39m)\n\u001B[32m     26\u001B[39m \u001B[38;5;28;01mwhile\u001B[39;00m(value):\n\u001B[32m---> \u001B[39m\u001B[32m27\u001B[39m     User_Input = \u001B[38;5;28;43minput\u001B[39;49m\u001B[43m(\u001B[49m\u001B[33;43m\"\u001B[39;49m\u001B[33;43mYou: \u001B[39;49m\u001B[33;43m\"\u001B[39;49m\u001B[43m)\u001B[49m\n\u001B[32m     28\u001B[39m     \u001B[38;5;28;01mif\u001B[39;00m User_Input.lower() == \u001B[33m\"\u001B[39m\u001B[33mexit\u001B[39m\u001B[33m\"\u001B[39m:\n\u001B[32m     29\u001B[39m         \u001B[38;5;28mprint\u001B[39m(\u001B[33m\"\u001B[39m\u001B[33mGoodbye!. Have you nice day\u001B[39m\u001B[33m\"\u001B[39m)\n",
      "\u001B[36mFile \u001B[39m\u001B[32m~\\AppData\\Roaming\\Python\\Python313\\site-packages\\ipykernel\\kernelbase.py:1282\u001B[39m, in \u001B[36mKernel.raw_input\u001B[39m\u001B[34m(self, prompt)\u001B[39m\n\u001B[32m   1280\u001B[39m     msg = \u001B[33m\"\u001B[39m\u001B[33mraw_input was called, but this frontend does not support input requests.\u001B[39m\u001B[33m\"\u001B[39m\n\u001B[32m   1281\u001B[39m     \u001B[38;5;28;01mraise\u001B[39;00m StdinNotImplementedError(msg)\n\u001B[32m-> \u001B[39m\u001B[32m1282\u001B[39m \u001B[38;5;28;01mreturn\u001B[39;00m \u001B[38;5;28;43mself\u001B[39;49m\u001B[43m.\u001B[49m\u001B[43m_input_request\u001B[49m\u001B[43m(\u001B[49m\n\u001B[32m   1283\u001B[39m \u001B[43m    \u001B[49m\u001B[38;5;28;43mstr\u001B[39;49m\u001B[43m(\u001B[49m\u001B[43mprompt\u001B[49m\u001B[43m)\u001B[49m\u001B[43m,\u001B[49m\n\u001B[32m   1284\u001B[39m \u001B[43m    \u001B[49m\u001B[38;5;28;43mself\u001B[39;49m\u001B[43m.\u001B[49m\u001B[43m_parent_ident\u001B[49m\u001B[43m[\u001B[49m\u001B[33;43m\"\u001B[39;49m\u001B[33;43mshell\u001B[39;49m\u001B[33;43m\"\u001B[39;49m\u001B[43m]\u001B[49m\u001B[43m,\u001B[49m\n\u001B[32m   1285\u001B[39m \u001B[43m    \u001B[49m\u001B[38;5;28;43mself\u001B[39;49m\u001B[43m.\u001B[49m\u001B[43mget_parent\u001B[49m\u001B[43m(\u001B[49m\u001B[33;43m\"\u001B[39;49m\u001B[33;43mshell\u001B[39;49m\u001B[33;43m\"\u001B[39;49m\u001B[43m)\u001B[49m\u001B[43m,\u001B[49m\n\u001B[32m   1286\u001B[39m \u001B[43m    \u001B[49m\u001B[43mpassword\u001B[49m\u001B[43m=\u001B[49m\u001B[38;5;28;43;01mFalse\u001B[39;49;00m\u001B[43m,\u001B[49m\n\u001B[32m   1287\u001B[39m \u001B[43m\u001B[49m\u001B[43m)\u001B[49m\n",
      "\u001B[36mFile \u001B[39m\u001B[32m~\\AppData\\Roaming\\Python\\Python313\\site-packages\\ipykernel\\kernelbase.py:1291\u001B[39m, in \u001B[36mKernel._input_request\u001B[39m\u001B[34m(self, prompt, ident, parent, password)\u001B[39m\n\u001B[32m   1289\u001B[39m \u001B[38;5;28;01mdef\u001B[39;00m\u001B[38;5;250m \u001B[39m\u001B[34m_input_request\u001B[39m(\u001B[38;5;28mself\u001B[39m, prompt, ident, parent, password=\u001B[38;5;28;01mFalse\u001B[39;00m):\n\u001B[32m   1290\u001B[39m     \u001B[38;5;66;03m# Flush output before making the request.\u001B[39;00m\n\u001B[32m-> \u001B[39m\u001B[32m1291\u001B[39m     \u001B[43msys\u001B[49m\u001B[43m.\u001B[49m\u001B[43mstderr\u001B[49m\u001B[43m.\u001B[49m\u001B[43mflush\u001B[49m\u001B[43m(\u001B[49m\u001B[43m)\u001B[49m\n\u001B[32m   1292\u001B[39m     sys.stdout.flush()\n\u001B[32m   1294\u001B[39m     \u001B[38;5;66;03m# flush the stdin socket, to purge stale replies\u001B[39;00m\n",
      "\u001B[36mFile \u001B[39m\u001B[32m~\\AppData\\Roaming\\Python\\Python313\\site-packages\\ipykernel\\iostream.py:604\u001B[39m, in \u001B[36mOutStream.flush\u001B[39m\u001B[34m(self)\u001B[39m\n\u001B[32m    593\u001B[39m \u001B[38;5;250m\u001B[39m\u001B[33;03m\"\"\"trigger actual zmq send\u001B[39;00m\n\u001B[32m    594\u001B[39m \n\u001B[32m    595\u001B[39m \u001B[33;03msend will happen in the background thread\u001B[39;00m\n\u001B[32m    596\u001B[39m \u001B[33;03m\"\"\"\u001B[39;00m\n\u001B[32m    597\u001B[39m \u001B[38;5;28;01mif\u001B[39;00m (\n\u001B[32m    598\u001B[39m     \u001B[38;5;28mself\u001B[39m.pub_thread\n\u001B[32m    599\u001B[39m     \u001B[38;5;129;01mand\u001B[39;00m \u001B[38;5;28mself\u001B[39m.pub_thread.thread \u001B[38;5;129;01mis\u001B[39;00m \u001B[38;5;129;01mnot\u001B[39;00m \u001B[38;5;28;01mNone\u001B[39;00m\n\u001B[32m   (...)\u001B[39m\u001B[32m    602\u001B[39m ):\n\u001B[32m    603\u001B[39m     \u001B[38;5;66;03m# request flush on the background thread\u001B[39;00m\n\u001B[32m--> \u001B[39m\u001B[32m604\u001B[39m     \u001B[38;5;28;43mself\u001B[39;49m\u001B[43m.\u001B[49m\u001B[43mpub_thread\u001B[49m\u001B[43m.\u001B[49m\u001B[43mschedule\u001B[49m\u001B[43m(\u001B[49m\u001B[38;5;28;43mself\u001B[39;49m\u001B[43m.\u001B[49m\u001B[43m_flush\u001B[49m\u001B[43m)\u001B[49m\n\u001B[32m    605\u001B[39m     \u001B[38;5;66;03m# wait for flush to actually get through, if we can.\u001B[39;00m\n\u001B[32m    606\u001B[39m     evt = threading.Event()\n",
      "\u001B[36mFile \u001B[39m\u001B[32m~\\AppData\\Roaming\\Python\\Python313\\site-packages\\ipykernel\\iostream.py:267\u001B[39m, in \u001B[36mIOPubThread.schedule\u001B[39m\u001B[34m(self, f)\u001B[39m\n\u001B[32m    265\u001B[39m     \u001B[38;5;28mself\u001B[39m._events.append(f)\n\u001B[32m    266\u001B[39m     \u001B[38;5;66;03m# wake event thread (message content is ignored)\u001B[39;00m\n\u001B[32m--> \u001B[39m\u001B[32m267\u001B[39m     \u001B[38;5;28;43mself\u001B[39;49m\u001B[43m.\u001B[49m\u001B[43m_event_pipe\u001B[49m\u001B[43m.\u001B[49m\u001B[43msend\u001B[49m\u001B[43m(\u001B[49m\u001B[33;43mb\u001B[39;49m\u001B[33;43m\"\u001B[39;49m\u001B[33;43m\"\u001B[39;49m\u001B[43m)\u001B[49m\n\u001B[32m    268\u001B[39m \u001B[38;5;28;01melse\u001B[39;00m:\n\u001B[32m    269\u001B[39m     f()\n",
      "\u001B[36mFile \u001B[39m\u001B[32m~\\AppData\\Roaming\\Python\\Python313\\site-packages\\zmq\\sugar\\socket.py:698\u001B[39m, in \u001B[36mSocket.send\u001B[39m\u001B[34m(self, data, flags, copy, track, routing_id, group)\u001B[39m\n\u001B[32m    691\u001B[39m         data = zmq.Frame(\n\u001B[32m    692\u001B[39m             data,\n\u001B[32m    693\u001B[39m             track=track,\n\u001B[32m    694\u001B[39m             copy=copy \u001B[38;5;129;01mor\u001B[39;00m \u001B[38;5;28;01mNone\u001B[39;00m,\n\u001B[32m    695\u001B[39m             copy_threshold=\u001B[38;5;28mself\u001B[39m.copy_threshold,\n\u001B[32m    696\u001B[39m         )\n\u001B[32m    697\u001B[39m     data.group = group\n\u001B[32m--> \u001B[39m\u001B[32m698\u001B[39m \u001B[38;5;28;01mreturn\u001B[39;00m \u001B[38;5;28;43msuper\u001B[39;49m\u001B[43m(\u001B[49m\u001B[43m)\u001B[49m\u001B[43m.\u001B[49m\u001B[43msend\u001B[49m\u001B[43m(\u001B[49m\u001B[43mdata\u001B[49m\u001B[43m,\u001B[49m\u001B[43m \u001B[49m\u001B[43mflags\u001B[49m\u001B[43m=\u001B[49m\u001B[43mflags\u001B[49m\u001B[43m,\u001B[49m\u001B[43m \u001B[49m\u001B[43mcopy\u001B[49m\u001B[43m=\u001B[49m\u001B[43mcopy\u001B[49m\u001B[43m,\u001B[49m\u001B[43m \u001B[49m\u001B[43mtrack\u001B[49m\u001B[43m=\u001B[49m\u001B[43mtrack\u001B[49m\u001B[43m)\u001B[49m\n",
      "\u001B[36mFile \u001B[39m\u001B[32m~\\AppData\\Roaming\\Python\\Python313\\site-packages\\zmq\\backend\\cython\\_zmq.py:1137\u001B[39m, in \u001B[36mzmq.backend.cython._zmq.Socket.send\u001B[39m\u001B[34m()\u001B[39m\n\u001B[32m   1134\u001B[39m     rc: C.int = zmq_leave(\u001B[38;5;28mself\u001B[39m.handle, group)\n\u001B[32m   1135\u001B[39m     _check_rc(rc)\n\u001B[32m-> \u001B[39m\u001B[32m1137\u001B[39m \u001B[38;5;28;01mdef\u001B[39;00m\u001B[38;5;250m \u001B[39m\u001B[34msend\u001B[39m(\u001B[38;5;28mself\u001B[39m, data, flags=\u001B[32m0\u001B[39m, copy: bint = \u001B[38;5;28;01mTrue\u001B[39;00m, track: bint = \u001B[38;5;28;01mFalse\u001B[39;00m):\n\u001B[32m   1138\u001B[39m \u001B[38;5;250m    \u001B[39m\u001B[33;03m\"\"\"\u001B[39;00m\n\u001B[32m   1139\u001B[39m \u001B[33;03m    Send a single zmq message frame on this socket.\u001B[39;00m\n\u001B[32m   1140\u001B[39m \n\u001B[32m   (...)\u001B[39m\u001B[32m   1177\u001B[39m \n\u001B[32m   1178\u001B[39m \u001B[33;03m    \"\"\"\u001B[39;00m\n\u001B[32m   1179\u001B[39m     _check_closed(\u001B[38;5;28mself\u001B[39m)\n",
      "\u001B[36mFile \u001B[39m\u001B[32m~\\AppData\\Roaming\\Python\\Python313\\site-packages\\zmq\\backend\\cython\\_zmq.py:1185\u001B[39m, in \u001B[36mzmq.backend.cython._zmq.Socket.send\u001B[39m\u001B[34m()\u001B[39m\n\u001B[32m   1182\u001B[39m     \u001B[38;5;28;01mraise\u001B[39;00m \u001B[38;5;167;01mTypeError\u001B[39;00m(\u001B[33m\"\u001B[39m\u001B[33municode not allowed, use send_string\u001B[39m\u001B[33m\"\u001B[39m)\n\u001B[32m   1184\u001B[39m \u001B[38;5;28;01mif\u001B[39;00m copy \u001B[38;5;129;01mand\u001B[39;00m \u001B[38;5;129;01mnot\u001B[39;00m \u001B[38;5;28misinstance\u001B[39m(data, Frame):\n\u001B[32m-> \u001B[39m\u001B[32m1185\u001B[39m     \u001B[38;5;28;01mreturn\u001B[39;00m _send_copy(\u001B[38;5;28mself\u001B[39m.handle, data, flags)\n\u001B[32m   1186\u001B[39m \u001B[38;5;28;01melse\u001B[39;00m:\n\u001B[32m   1187\u001B[39m     \u001B[38;5;28;01mif\u001B[39;00m \u001B[38;5;28misinstance\u001B[39m(data, Frame):\n",
      "\u001B[36mFile \u001B[39m\u001B[32m~\\AppData\\Roaming\\Python\\Python313\\site-packages\\zmq\\backend\\cython\\_zmq.py:1453\u001B[39m, in \u001B[36mzmq.backend.cython._zmq._send_copy\u001B[39m\u001B[34m()\u001B[39m\n\u001B[32m   1451\u001B[39m     rc = zmq_msg_send(address(msg), handle, flags)\n\u001B[32m   1452\u001B[39m \u001B[38;5;28;01mtry\u001B[39;00m:\n\u001B[32m-> \u001B[39m\u001B[32m1453\u001B[39m     _check_rc(rc)\n\u001B[32m   1454\u001B[39m \u001B[38;5;28;01mexcept\u001B[39;00m InterruptedSystemCall:\n\u001B[32m   1455\u001B[39m     \u001B[38;5;28;01mcontinue\u001B[39;00m\n",
      "\u001B[36mFile \u001B[39m\u001B[32m~\\AppData\\Roaming\\Python\\Python313\\site-packages\\zmq\\backend\\cython\\_zmq.py:176\u001B[39m, in \u001B[36mzmq.backend.cython._zmq._check_rc\u001B[39m\u001B[34m()\u001B[39m\n\u001B[32m    171\u001B[39m \u001B[38;5;250m\u001B[39m\u001B[33;03m\"\"\"internal utility for checking zmq return condition\u001B[39;00m\n\u001B[32m    172\u001B[39m \n\u001B[32m    173\u001B[39m \u001B[33;03mand raising the appropriate Exception class\u001B[39;00m\n\u001B[32m    174\u001B[39m \u001B[33;03m\"\"\"\u001B[39;00m\n\u001B[32m    175\u001B[39m errno: C.int = _zmq_errno()\n\u001B[32m--> \u001B[39m\u001B[32m176\u001B[39m PyErr_CheckSignals()\n\u001B[32m    177\u001B[39m \u001B[38;5;28;01mif\u001B[39;00m errno == \u001B[32m0\u001B[39m \u001B[38;5;129;01mand\u001B[39;00m \u001B[38;5;129;01mnot\u001B[39;00m error_without_errno:\n\u001B[32m    178\u001B[39m     \u001B[38;5;28;01mreturn\u001B[39;00m \u001B[32m0\u001B[39m\n",
      "\u001B[31mKeyboardInterrupt\u001B[39m: "
     ]
    }
   ],
   "execution_count": 6
  },
  {
   "cell_type": "code",
   "execution_count": null,
   "id": "ef15b131-5e09-478a-9918-05ae90746e85",
   "metadata": {},
   "outputs": [],
   "source": []
  }
 ],
 "metadata": {
  "kernelspec": {
   "display_name": "anaconda-ai-2024.04-py310",
   "language": "python",
   "name": "conda-env-anaconda-ai-2024.04-py310-py"
  },
  "language_info": {
   "codemirror_mode": {
    "name": "ipython",
    "version": 3
   },
   "file_extension": ".py",
   "mimetype": "text/x-python",
   "name": "python",
   "nbconvert_exporter": "python",
   "pygments_lexer": "ipython3",
   "version": "3.10.13"
  }
 },
 "nbformat": 4,
 "nbformat_minor": 5
}
