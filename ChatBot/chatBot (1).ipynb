{
 "cells": [
  {
   "cell_type": "code",
   "id": "4334a6b0-fc0f-4aba-b9b7-ad1b6c76d3ab",
   "metadata": {},
   "source": [
    "pip install nltk"
   ],
   "outputs": [],
   "execution_count": null
  },
  {
   "cell_type": "code",
   "id": "d63e67e8-65e4-4199-8f6e-4f30b7cc65d9",
   "metadata": {},
   "source": [
    "import nltk\n",
    "import random\n",
    "import re\n",
    "import datetime"
   ],
   "outputs": [],
   "execution_count": null
  },
  {
   "cell_type": "code",
   "id": "f6c2b44c-6c91-4c5f-9f1c-1e36c1c16222",
   "metadata": {},
   "source": [
    "def Get_Resposnse(User_Input):\n",
    "    User_Lower = User_Input.lower()\n",
    "\n",
    "    Responses = {\n",
    "        r'hi|hello|hey': [\"Hello there!\", \"Hi!\", \"Hey! How can I help you today?\", \"Greetings!\"],\n",
    "        r'how are you': [\"I'm just a simple chatbot, but I'm functioning perfectly! How can I assist you?\"],\n",
    "        r'what can you do': [\"I can respond to greetings, answer simple questions, and have basic conversations.\"],\n",
    "        r'your name|who are you': [\"I'm a rule-based chatbot designed to demonstrate simple pattern matching.\"],\n",
    "        r'time|current time|what time is it': [f\"The current time is {datetime.datetime.now().strftime('%H:%M:%S')}.\"],\n",
    "        r'date|today\\'s date|what day is it': [f\"Today is {datetime.datetime.now().strftime('%Y-%m-%d')}.\"],\n",
    "        r'weather|temperature|forecast': [\"I'm not connected to a weather service, but I can tell you it's always sunny in chatbot-land!\"],\n",
    "        r'thanks|thank you|appreciate it': [\"You're welcome! Is there anything else I can help with?\"],\n",
    "        r'bye|goodbye|see you|farewell': [\"Goodbye! Feel free to come back if you have more questions!\"],\n",
    "    }\n",
    "\n",
    "    for pattern, Response_List in Responses.items():\n",
    "        if re.search(pattern, User_Lower):\n",
    "            return random.choice(Response_List)\n",
    "\n",
    "    return \"I am not sure i understand. Can you try asking something ? \"\n",
    "\n",
    "def ChatBot():\n",
    "    value = True\n",
    "    print(\"Welcome to our chatbot! Type 'exit' to exit. \")\n",
    "\n",
    "    while(value):\n",
    "        User_Input = input(\"You: \")\n",
    "        if User_Input.lower() == \"exit\":\n",
    "            print(\"Goodbye!. Have you nice day\")\n",
    "            break\n",
    "        response = Get_Resposnse(User_Input)\n",
    "        print(f\"ChatBot: {response}\")\n",
    "\n",
    "if __name__ == \"__main__\":\n",
    "    ChatBot()\n",
    "            \n",
    "            "
   ],
   "outputs": [],
   "execution_count": null
  },
  {
   "cell_type": "code",
   "id": "ef15b131-5e09-478a-9918-05ae90746e85",
   "metadata": {},
   "source": [],
   "outputs": [],
   "execution_count": null
  }
 ],
 "metadata": {
  "kernelspec": {
   "display_name": "anaconda-ai-2024.04-py310",
   "language": "python",
   "name": "conda-env-anaconda-ai-2024.04-py310-py"
  },
  "language_info": {
   "codemirror_mode": {
    "name": "ipython",
    "version": 3
   },
   "file_extension": ".py",
   "mimetype": "text/x-python",
   "name": "python",
   "nbconvert_exporter": "python",
   "pygments_lexer": "ipython3",
   "version": "3.10.13"
  }
 },
 "nbformat": 4,
 "nbformat_minor": 5
}
